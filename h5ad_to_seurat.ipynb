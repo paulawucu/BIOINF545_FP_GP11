{
 "cells": [
  {
   "cell_type": "code",
   "execution_count": 26,
   "id": "6b66e441-cd65-4cf0-8fd3-5339efa8488c",
   "metadata": {},
   "outputs": [],
   "source": [
    "import scanpy as sc\n",
    "from scipy import io"
   ]
  },
  {
   "cell_type": "markdown",
   "id": "95e608e7-b39d-44af-bf8a-e968c73abfc3",
   "metadata": {},
   "source": [
    "The tutorial can be found here: https://www.youtube.com/watch?v=como93CmnS8"
   ]
  },
  {
   "cell_type": "code",
   "execution_count": 27,
   "id": "8e2aa41b-8ab5-41a8-a962-ce3672b00a52",
   "metadata": {},
   "outputs": [],
   "source": [
    "#!mkdir matrix_files_human"
   ]
  },
  {
   "cell_type": "code",
   "execution_count": 39,
   "id": "2b90c9ed-8c9a-4a6d-9cad-a533895c0321",
   "metadata": {},
   "outputs": [],
   "source": [
    "!mkdir matrix_files_ys"
   ]
  },
  {
   "cell_type": "code",
   "execution_count": 75,
   "id": "e454375d-0b45-41ab-8d2d-1940a42ba311",
   "metadata": {},
   "outputs": [],
   "source": [
    "#adata = sc.read_h5ad(\"human_mast_cells.h5ad\")\n",
    "adata = sc.read_h5ad(\"ys_mast_cells.h5ad\")"
   ]
  },
  {
   "cell_type": "code",
   "execution_count": 51,
   "id": "f4c9f853-8a37-42c8-91b7-bcc128b812fe",
   "metadata": {},
   "outputs": [],
   "source": [
    "# ys: no raw?\n",
    "adata.raw"
   ]
  },
  {
   "cell_type": "code",
   "execution_count": 55,
   "id": "6f968c82-3d62-4028-a2e8-0998acc35128",
   "metadata": {},
   "outputs": [
    {
     "data": {
      "text/plain": [
       "<anndata._core.raw.Raw at 0x145b213f1700>"
      ]
     },
     "execution_count": 55,
     "metadata": {},
     "output_type": "execute_result"
    }
   ],
   "source": [
    "#human\n",
    "adata.raw"
   ]
  },
  {
   "cell_type": "code",
   "execution_count": 56,
   "id": "872acb7a-4caf-48d9-8902-adff7d10913d",
   "metadata": {},
   "outputs": [],
   "source": [
    "#adata = adata.raw.to_adata()"
   ]
  },
  {
   "cell_type": "code",
   "execution_count": 65,
   "id": "6a455984-d012-4580-833c-b9e6ab32e283",
   "metadata": {},
   "outputs": [
    {
     "data": {
      "text/plain": [
       "Index(['A1BG', 'A1BG-AS1', 'A1CF', 'A2M', 'A2M-AS1', 'A2ML1', 'A2ML1-AS1',\n",
       "       'A3GALT2', 'A4GALT', 'A4GNT',\n",
       "       ...\n",
       "       'ZXDB', 'ZXDC', 'ZYG11A', 'ZYG11B', 'ZYX', 'ZZEF1', 'ZZZ3',\n",
       "       'bP-21264C1.2', 'bP-2189O9.3', 'hsa-mir-423'],\n",
       "      dtype='object', length=37318)"
      ]
     },
     "execution_count": 65,
     "metadata": {},
     "output_type": "execute_result"
    }
   ],
   "source": [
    "adata.var_names"
   ]
  },
  {
   "cell_type": "code",
   "execution_count": 66,
   "id": "226b4928-199a-46c1-b019-3fcf2809d770",
   "metadata": {},
   "outputs": [],
   "source": [
    "# with open(\"matrix_files_human/barcodes.tsv\", 'w') as f:\n",
    "#     for item in adata.obs_names:\n",
    "#         f.write(item + '\\n')\n",
    "        \n",
    "with open(\"matrix_files_ys/barcodes.tsv\", 'w') as f:\n",
    "    for item in adata.obs_names:\n",
    "        f.write(item + '\\n')"
   ]
  },
  {
   "cell_type": "code",
   "execution_count": 67,
   "id": "41e3d961-eb41-427c-bdfb-d79f62b33d55",
   "metadata": {},
   "outputs": [],
   "source": [
    "# with open(\"matrix_files_human/features.tsv\", 'w') as f:\n",
    "#     for item in ['\\t'.join([x,x,'Gene Expression']) for x in adata.var_names]:\n",
    "#         f.write(item + '\\n')\n",
    "        \n",
    "with open(\"matrix_files_ys/features.tsv\", 'w') as f:\n",
    "    for item in ['\\t'.join([x,x,'Gene Expression']) for x in adata.var_names]:\n",
    "        f.write(item + '\\n')"
   ]
  },
  {
   "cell_type": "code",
   "execution_count": 68,
   "id": "d632ef50-8398-45cb-a94f-a3fbbb8e8456",
   "metadata": {},
   "outputs": [],
   "source": [
    "# io.mmwrite('matrix_files_human/matrix.mtx', adata.X.T)\n",
    "\n",
    "io.mmwrite('matrix_files_ys/matrix.mtx', adata.X.T)"
   ]
  },
  {
   "cell_type": "code",
   "execution_count": 72,
   "id": "c14ccb61-5958-4256-a321-379a71760e33",
   "metadata": {},
   "outputs": [
    {
     "name": "stdout",
     "output_type": "stream",
     "text": [
      "barcodes.tsv.gz  features.tsv.gz  matrix.mtx.gz\n"
     ]
    }
   ],
   "source": [
    "!ls matrix_files_ys"
   ]
  },
  {
   "cell_type": "code",
   "execution_count": 36,
   "id": "61d9d458-0f58-4602-9a4c-aa1c65830a89",
   "metadata": {},
   "outputs": [],
   "source": [
    "# \"seurat expect zip files\"\n",
    "!gzip matrix_files_human/*"
   ]
  },
  {
   "cell_type": "code",
   "execution_count": 71,
   "id": "f51af977-3a5b-4a80-aa90-63f1a7b05f2b",
   "metadata": {},
   "outputs": [],
   "source": [
    "!gzip matrix_files_ys/*"
   ]
  },
  {
   "cell_type": "code",
   "execution_count": 74,
   "id": "5cc0c5aa-5834-4aa1-86cf-afff9d14d559",
   "metadata": {},
   "outputs": [],
   "source": [
    "# adata.obs.to_csv('metadata_human.csv')\n",
    "\n",
    "adata.obs.to_csv('metadata_ys.csv')"
   ]
  }
 ],
 "metadata": {
  "kernelspec": {
   "display_name": "Python 3 (ipykernel)",
   "language": "python",
   "name": "python3"
  },
  "language_info": {
   "codemirror_mode": {
    "name": "ipython",
    "version": 3
   },
   "file_extension": ".py",
   "mimetype": "text/x-python",
   "name": "python",
   "nbconvert_exporter": "python",
   "pygments_lexer": "ipython3",
   "version": "3.9.7"
  }
 },
 "nbformat": 4,
 "nbformat_minor": 5
}
