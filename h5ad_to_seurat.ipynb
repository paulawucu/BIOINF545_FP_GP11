{
 "cells": [
  {
   "cell_type": "code",
   "execution_count": 1,
   "id": "6b66e441-cd65-4cf0-8fd3-5339efa8488c",
   "metadata": {},
   "outputs": [
    {
     "name": "stderr",
     "output_type": "stream",
     "text": [
      "/home/paulawu/.local/lib/python3.9/site-packages/pandas/core/computation/expressions.py:21: UserWarning: Pandas requires version '2.8.4' or newer of 'numexpr' (version '2.7.3' currently installed).\n",
      "  from pandas.core.computation.check import NUMEXPR_INSTALLED\n",
      "/home/paulawu/.local/lib/python3.9/site-packages/pandas/core/arrays/masked.py:60: UserWarning: Pandas requires version '1.3.6' or newer of 'bottleneck' (version '1.3.2' currently installed).\n",
      "  from pandas.core import (\n"
     ]
    }
   ],
   "source": [
    "import scanpy as sc\n",
    "from scipy import io"
   ]
  },
  {
   "cell_type": "markdown",
   "id": "95e608e7-b39d-44af-bf8a-e968c73abfc3",
   "metadata": {},
   "source": [
    "The tutorial can be found here: https://www.youtube.com/watch?v=como93CmnS8"
   ]
  },
  {
   "cell_type": "code",
   "execution_count": 27,
   "id": "8e2aa41b-8ab5-41a8-a962-ce3672b00a52",
   "metadata": {},
   "outputs": [],
   "source": [
    "#!mkdir matrix_files_human"
   ]
  },
  {
   "cell_type": "code",
   "execution_count": 39,
   "id": "2b90c9ed-8c9a-4a6d-9cad-a533895c0321",
   "metadata": {},
   "outputs": [],
   "source": [
    "#!mkdir matrix_files_ys"
   ]
  },
  {
   "cell_type": "code",
   "execution_count": 2,
   "id": "8bca7fff-06ae-4e46-beec-90bb0b8d3b84",
   "metadata": {},
   "outputs": [],
   "source": [
    "!mkdir matrix_files_ys_pt"
   ]
  },
  {
   "cell_type": "code",
   "execution_count": 3,
   "id": "e454375d-0b45-41ab-8d2d-1940a42ba311",
   "metadata": {},
   "outputs": [],
   "source": [
    "#adata = sc.read_h5ad(\"human_mast_cells.h5ad\")\n",
    "#adata = sc.read_h5ad(\"ys_mast_cells.h5ad\")\n",
    "adata = sc.read_h5ad(\"ys_pseudotime.h5ad\")"
   ]
  },
  {
   "cell_type": "code",
   "execution_count": 4,
   "id": "f4c9f853-8a37-42c8-91b7-bcc128b812fe",
   "metadata": {},
   "outputs": [],
   "source": [
    "# ys: no raw?\n",
    "adata.raw"
   ]
  },
  {
   "cell_type": "code",
   "execution_count": 5,
   "id": "6f968c82-3d62-4028-a2e8-0998acc35128",
   "metadata": {},
   "outputs": [],
   "source": [
    "#human\n",
    "#adata.raw"
   ]
  },
  {
   "cell_type": "code",
   "execution_count": 56,
   "id": "872acb7a-4caf-48d9-8902-adff7d10913d",
   "metadata": {},
   "outputs": [],
   "source": [
    "#adata = adata.raw.to_adata()"
   ]
  },
  {
   "cell_type": "code",
   "execution_count": 6,
   "id": "6a455984-d012-4580-833c-b9e6ab32e283",
   "metadata": {},
   "outputs": [
    {
     "data": {
      "text/plain": [
       "Index(['A1BG', 'A1BG-AS1', 'A1CF', 'A2M', 'A2M-AS1', 'A2ML1', 'A2ML1-AS1',\n",
       "       'A3GALT2', 'A4GALT', 'A4GNT',\n",
       "       ...\n",
       "       'ZXDB', 'ZXDC', 'ZYG11A', 'ZYG11B', 'ZYX', 'ZZEF1', 'ZZZ3',\n",
       "       'bP-21264C1.2', 'bP-2189O9.3', 'hsa-mir-423'],\n",
       "      dtype='object', length=37318)"
      ]
     },
     "execution_count": 6,
     "metadata": {},
     "output_type": "execute_result"
    }
   ],
   "source": [
    "adata.var_names"
   ]
  },
  {
   "cell_type": "code",
   "execution_count": 8,
   "id": "226b4928-199a-46c1-b019-3fcf2809d770",
   "metadata": {},
   "outputs": [],
   "source": [
    "# with open(\"matrix_files_human/barcodes.tsv\", 'w') as f:\n",
    "#     for item in adata.obs_names:\n",
    "#         f.write(item + '\\n')\n",
    "        \n",
    "# with open(\"matrix_files_ys/barcodes.tsv\", 'w') as f:\n",
    "#     for item in adata.obs_names:\n",
    "#         f.write(item + '\\n')\n",
    "\n",
    "with open(\"matrix_files_ys_pt/barcodes.tsv\", 'w') as f:\n",
    "    for item in adata.obs_names:\n",
    "        f.write(item + '\\n')"
   ]
  },
  {
   "cell_type": "code",
   "execution_count": 9,
   "id": "41e3d961-eb41-427c-bdfb-d79f62b33d55",
   "metadata": {},
   "outputs": [],
   "source": [
    "# with open(\"matrix_files_human/features.tsv\", 'w') as f:\n",
    "#     for item in ['\\t'.join([x,x,'Gene Expression']) for x in adata.var_names]:\n",
    "#         f.write(item + '\\n')\n",
    "        \n",
    "# with open(\"matrix_files_ys/features.tsv\", 'w') as f:\n",
    "#     for item in ['\\t'.join([x,x,'Gene Expression']) for x in adata.var_names]:\n",
    "#         f.write(item + '\\n')\n",
    "\n",
    "with open(\"matrix_files_ys_pt/features.tsv\", 'w') as f:\n",
    "    for item in ['\\t'.join([x,x,'Gene Expression']) for x in adata.var_names]:\n",
    "        f.write(item + '\\n')"
   ]
  },
  {
   "cell_type": "code",
   "execution_count": 10,
   "id": "d632ef50-8398-45cb-a94f-a3fbbb8e8456",
   "metadata": {},
   "outputs": [],
   "source": [
    "# io.mmwrite('matrix_files_human/matrix.mtx', adata.X.T)\n",
    "\n",
    "#io.mmwrite('matrix_files_ys/matrix.mtx', adata.X.T)\n",
    "\n",
    "io.mmwrite('matrix_files_ys_pt/matrix.mtx', adata.X.T)"
   ]
  },
  {
   "cell_type": "code",
   "execution_count": 11,
   "id": "c14ccb61-5958-4256-a321-379a71760e33",
   "metadata": {},
   "outputs": [
    {
     "name": "stdout",
     "output_type": "stream",
     "text": [
      "barcodes.tsv  features.tsv  matrix.mtx\n"
     ]
    }
   ],
   "source": [
    "!ls matrix_files_ys_pt"
   ]
  },
  {
   "cell_type": "code",
   "execution_count": 36,
   "id": "61d9d458-0f58-4602-9a4c-aa1c65830a89",
   "metadata": {},
   "outputs": [],
   "source": [
    "# \"seurat expect zip files\"\n",
    "# !gzip matrix_files_human/*"
   ]
  },
  {
   "cell_type": "code",
   "execution_count": 71,
   "id": "f51af977-3a5b-4a80-aa90-63f1a7b05f2b",
   "metadata": {},
   "outputs": [],
   "source": [
    "# !gzip matrix_files_ys/*"
   ]
  },
  {
   "cell_type": "code",
   "execution_count": 12,
   "id": "cf296ddb-ca87-427a-9fa2-159cab515eb4",
   "metadata": {},
   "outputs": [],
   "source": [
    "!gzip matrix_files_ys_pt/*"
   ]
  },
  {
   "cell_type": "code",
   "execution_count": 13,
   "id": "5cc0c5aa-5834-4aa1-86cf-afff9d14d559",
   "metadata": {},
   "outputs": [],
   "source": [
    "# adata.obs.to_csv('metadata_human.csv')\n",
    "\n",
    "# adata.obs.to_csv('metadata_ys.csv')\n",
    "\n",
    "adata.obs.to_csv('metadata_ys_pt.csv')"
   ]
  }
 ],
 "metadata": {
  "kernelspec": {
   "display_name": "Python 3 (ipykernel)",
   "language": "python",
   "name": "python3"
  },
  "language_info": {
   "codemirror_mode": {
    "name": "ipython",
    "version": 3
   },
   "file_extension": ".py",
   "mimetype": "text/x-python",
   "name": "python",
   "nbconvert_exporter": "python",
   "pygments_lexer": "ipython3",
   "version": "3.9.7"
  }
 },
 "nbformat": 4,
 "nbformat_minor": 5
}
