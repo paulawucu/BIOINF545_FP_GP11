{
 "cells": [
  {
   "cell_type": "code",
   "execution_count": 12,
   "id": "6b66e441-cd65-4cf0-8fd3-5339efa8488c",
   "metadata": {},
   "outputs": [],
   "source": [
    "import scanpy as sc\n",
    "import os\n",
    "from scipy import io"
   ]
  },
  {
   "cell_type": "code",
   "execution_count": 13,
   "id": "2f77ebbd",
   "metadata": {},
   "outputs": [
    {
     "data": {
      "text/plain": [
       "'/Users/marianasierra/Desktop/Group_11/meyloid_data'"
      ]
     },
     "execution_count": 13,
     "metadata": {},
     "output_type": "execute_result"
    }
   ],
   "source": [
    "pwd"
   ]
  },
  {
   "cell_type": "markdown",
   "id": "95e608e7-b39d-44af-bf8a-e968c73abfc3",
   "metadata": {},
   "source": [
    "The tutorial can be found here: https://www.youtube.com/watch?v=como93CmnS8"
   ]
  },
  {
   "cell_type": "code",
   "execution_count": 14,
   "id": "2b90c9ed-8c9a-4a6d-9cad-a533895c0321",
   "metadata": {},
   "outputs": [
    {
     "name": "stdout",
     "output_type": "stream",
     "text": [
      "mkdir: matrix_files_ys_meyloid_progen_cells: File exists\r\n"
     ]
    }
   ],
   "source": [
    "!mkdir matrix_files_ys_meyloid_progen_cells"
   ]
  },
  {
   "cell_type": "code",
   "execution_count": 15,
   "id": "e454375d-0b45-41ab-8d2d-1940a42ba311",
   "metadata": {},
   "outputs": [
    {
     "data": {
      "text/plain": [
       "Index(['A1BG', 'A1BG-AS1', 'A1CF', 'A2M', 'A2M-AS1', 'A2ML1', 'A2ML1-AS1',\n",
       "       'A3GALT2', 'A4GALT', 'A4GNT',\n",
       "       ...\n",
       "       'ZXDB', 'ZXDC', 'ZYG11A', 'ZYG11B', 'ZYX', 'ZZEF1', 'ZZZ3',\n",
       "       'bP-21264C1.2', 'bP-2189O9.3', 'hsa-mir-423'],\n",
       "      dtype='object', length=37318)"
      ]
     },
     "execution_count": 15,
     "metadata": {},
     "output_type": "execute_result"
    }
   ],
   "source": [
    "adata = sc.read_h5ad(\"ys_meyloid_data.h5ad\")\n",
    "adata.var_names"
   ]
  },
  {
   "cell_type": "code",
   "execution_count": 16,
   "id": "f43ced7e",
   "metadata": {},
   "outputs": [
    {
     "data": {
      "text/plain": [
       "AnnData object with n_obs × n_vars = 3575 × 37318\n",
       "    obs: 'component', 'stage', 'sex', 'sort.ids', 'fetal.ids', 'orig.dataset', 'sequencing.type', 'lanes', 'LVL1', 'LVL2', 'LVL3'\n",
       "    obsm: 'X_umap'"
      ]
     },
     "execution_count": 16,
     "metadata": {},
     "output_type": "execute_result"
    }
   ],
   "source": [
    "adata = sc.read_h5ad(\"ys_meyloid_data.h5ad\")\n",
    "adata"
   ]
  },
  {
   "cell_type": "code",
   "execution_count": 17,
   "id": "226b4928-199a-46c1-b019-3fcf2809d770",
   "metadata": {},
   "outputs": [],
   "source": [
    "# with open(\"matrix_files_human/barcodes.tsv\", 'w') as f:\n",
    "#     for item in adata.obs_names:\n",
    "#         f.write(item + '\\n')\n",
    "        \n",
    "with open(\"matrix_files_ys_meyloid_progen_cells/barcodes.tsv\", 'w') as f:\n",
    "    for item in adata.obs_names:\n",
    "        f.write(item + '\\n')"
   ]
  },
  {
   "cell_type": "code",
   "execution_count": 18,
   "id": "41e3d961-eb41-427c-bdfb-d79f62b33d55",
   "metadata": {},
   "outputs": [],
   "source": [
    "# with open(\"matrix_files_human/features.tsv\", 'w') as f:\n",
    "#     for item in ['\\t'.join([x,x,'Gene Expression']) for x in adata.var_names]:\n",
    "#         f.write(item + '\\n')\n",
    "        \n",
    "with open(\"matrix_files_ys_meyloid_progen_cells/features.tsv\", 'w') as f:\n",
    "    for item in ['\\t'.join([x,x,'Gene Expression']) for x in adata.var_names]:\n",
    "        f.write(item + '\\n')"
   ]
  },
  {
   "cell_type": "code",
   "execution_count": 19,
   "id": "d632ef50-8398-45cb-a94f-a3fbbb8e8456",
   "metadata": {},
   "outputs": [],
   "source": [
    "# io.mmwrite('matrix_files_human/matrix.mtx', adata.X.T)\n",
    "\n",
    "io.mmwrite('matrix_files_ys_meyloid_progen_cells/matrix.mtx', adata.X.T)"
   ]
  },
  {
   "cell_type": "code",
   "execution_count": 20,
   "id": "c14ccb61-5958-4256-a321-379a71760e33",
   "metadata": {},
   "outputs": [
    {
     "name": "stdout",
     "output_type": "stream",
     "text": [
      "barcodes.tsv features.tsv matrix.mtx\r\n"
     ]
    }
   ],
   "source": [
    "!ls matrix_files_ys_meyloid_progen_cells"
   ]
  },
  {
   "cell_type": "code",
   "execution_count": 21,
   "id": "f51af977-3a5b-4a80-aa90-63f1a7b05f2b",
   "metadata": {},
   "outputs": [],
   "source": [
    "!gzip matrix_files_ys_meyloid_progen_cells/*"
   ]
  },
  {
   "cell_type": "code",
   "execution_count": 22,
   "id": "5cc0c5aa-5834-4aa1-86cf-afff9d14d559",
   "metadata": {},
   "outputs": [],
   "source": [
    "# adata.obs.to_csv('metadata_human.csv')\n",
    "\n",
    "adata.obs.to_csv('metadata_ys.csv')"
   ]
  },
  {
   "cell_type": "code",
   "execution_count": null,
   "id": "71509ff1",
   "metadata": {},
   "outputs": [],
   "source": []
  },
  {
   "cell_type": "code",
   "execution_count": null,
   "id": "1ee835fa",
   "metadata": {},
   "outputs": [],
   "source": []
  }
 ],
 "metadata": {
  "kernelspec": {
   "display_name": "Python 3 (ipykernel)",
   "language": "python",
   "name": "python3"
  },
  "language_info": {
   "codemirror_mode": {
    "name": "ipython",
    "version": 3
   },
   "file_extension": ".py",
   "mimetype": "text/x-python",
   "name": "python",
   "nbconvert_exporter": "python",
   "pygments_lexer": "ipython3",
   "version": "3.11.5"
  }
 },
 "nbformat": 4,
 "nbformat_minor": 5
}
